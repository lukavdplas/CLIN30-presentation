{
 "cells": [
  {
   "cell_type": "markdown",
   "metadata": {},
   "source": [
    "## Import data"
   ]
  },
  {
   "cell_type": "code",
   "execution_count": 1,
   "metadata": {},
   "outputs": [],
   "source": [
    "import numpy as np\n",
    "import numpy.linalg as la\n",
    "from reach import Reach\n",
    "import os\n",
    "import scipy.stats as stats\n",
    "import sklearn.preprocessing\n",
    "from tqdm.notebook import tqdm\n",
    "import random\n",
    "import matplotlib.pyplot as plt"
   ]
  },
  {
   "cell_type": "code",
   "execution_count": 2,
   "metadata": {},
   "outputs": [],
   "source": [
    "#pathnames\n",
    "relpron_path = './relpron_translation.txt'\n",
    "verbs_path = './verbmatrices'\n",
    "vectorspath = './embeddings/sonar-160.txt'"
   ]
  },
  {
   "cell_type": "markdown",
   "metadata": {},
   "source": [
    "Import the RELPRON test sentences. This dataset consists of pairs of nouns and relative clauses with a transtitive verb, describing some property or action related to them. An example:\n",
    "\n",
    "> SBJ vliegtuig: vaartuig dat hoogte bereikt/bereik\n",
    "> [SBJ airplaine: craft that reaches height]\n",
    "\n",
    "Note that items also list whether the clause is subject or object relative, and gives the root for inflected verbs (and nouns)."
   ]
  },
  {
   "cell_type": "code",
   "execution_count": 3,
   "metadata": {},
   "outputs": [],
   "source": [
    "#import relpron data\n",
    "relpron_file = open(relpron_path,'r', encoding='latin-1')\n",
    "items_raw = relpron_file.readlines()\n",
    "relpron_file.close()"
   ]
  },
  {
   "cell_type": "code",
   "execution_count": 4,
   "metadata": {},
   "outputs": [],
   "source": [
    "#store relpron data\n",
    "\n",
    "class Sentence:\n",
    "    def __init__(self, string):\n",
    "        key, self.propertystr = string.strip().split(': ')\n",
    "        \n",
    "        self.relation, self.termN = key.split(' ')\n",
    "        self.rel = self.relation[0]\n",
    "        \n",
    "        propertylst = self.propertystr.split(' ')\n",
    "        self.headN = propertylst[0]\n",
    "        self.argN = propertylst[2].split('/')[0]\n",
    "        _, self.V = propertylst[-1].split('/')\n",
    "        \n",
    "    def __str__(self):\n",
    "        return self.termN + ': ' + self.propertystr\n",
    "        \n",
    "verbfiles = [filename[:-4] for filename in os.listdir(verbs_path)]\n",
    "\n",
    "items = dict()\n",
    "for item in items_raw:\n",
    "    sent = Sentence(item)\n",
    "    if sent.V + '_O' in verbfiles and sent.V + '_S' in verbfiles:\n",
    "        if sent.termN not in items:\n",
    "            items[sent.termN] = [sent]\n",
    "        else:\n",
    "            items[sent.termN].append(sent)"
   ]
  },
  {
   "cell_type": "markdown",
   "metadata": {},
   "source": [
    "Loading the noun embeddings and the verb matrices"
   ]
  },
  {
   "cell_type": "code",
   "execution_count": 5,
   "metadata": {},
   "outputs": [],
   "source": [
    "#load vectors\n",
    "r = Reach.load(vectorspath)\n",
    "\n",
    "#load matrices\n",
    "verbmatrices = dict()\n",
    "for verbfile in os.listdir(verbs_path):\n",
    "    verbmatrices[verbfile[:-4]] = np.load(verbs_path+'/'+verbfile)"
   ]
  },
  {
   "cell_type": "markdown",
   "metadata": {},
   "source": [
    "## Generate composed vectors"
   ]
  },
  {
   "cell_type": "code",
   "execution_count": 6,
   "metadata": {},
   "outputs": [],
   "source": [
    "class PhraseComposer:\n",
    "    def __init__(self, sentence):\n",
    "        \"\"\"Load vectors and matrices for the phrase\"\"\"\n",
    "        self.relation = sentence.rel\n",
    "        if self.relation == 'O':\n",
    "            inverse_relation = 'S'\n",
    "        else:\n",
    "            inverse_relation = 'O'\n",
    "        \n",
    "        try:\n",
    "            self.arg_v = r[sentence.argN]\n",
    "            self.arg_v = self.Scale(self.arg_v)\n",
    "            \n",
    "            self.head_v = r[sentence.headN]\n",
    "            self.head_v = self.Scale(self.head_v)\n",
    "            \n",
    "            self.V_v = r[sentence.V.split('_')[0]]\n",
    "            self.VO_m =  verbmatrices[sent.V+'_O']\n",
    "            self.VS_m = verbmatrices[sent.V+'_S']\n",
    "            \n",
    "            self.valid = True\n",
    "        \n",
    "        except KeyError:\n",
    "            self.valid = False\n",
    "        \n",
    "        #calculate all the composed representations\n",
    "        if self.valid:\n",
    "            self.compositions = {'Addition' : self.Addition(),\n",
    "                                 'Elementwise product' : self.EltMult(),\n",
    "                                 'Head vector' : self.head_v,\n",
    "                                 'Arg vector' : self.arg_v,\n",
    "                                 'Verb vector' : self.V_v,\n",
    "                                 'PLF': self.PLF(self.relation),\n",
    "                                 'VArg': self.VArg(self.relation),\n",
    "                                 'VHn': self.VHn(self.relation),\n",
    "                                 'iPLF': self.PLF(inverse_relation),\n",
    "                                 'iVArg': self.VArg(inverse_relation),\n",
    "                                 'iVHn': self.VHn(inverse_relation)\n",
    "                                }\n",
    "        \n",
    "    def Scale(self, v):\n",
    "        \"\"\"Apply standard scaling to argument vector as was done in training.\"\"\"\n",
    "        scaler = sklearn.preprocessing.StandardScaler()\n",
    "        scaler.set_params(with_std=True)\n",
    "        v = scaler.fit_transform(v[:, np.newaxis])\n",
    "        v = np.squeeze(v)\n",
    "        v = 0.08 * v\n",
    "        return v\n",
    "    \n",
    "    def Compose(self, method):\n",
    "        \"\"\"Direct to proper composition result based on input string\"\"\"\n",
    "        return self.compositions[method]\n",
    "        \n",
    "    def Addition(self):\n",
    "        return self.head_v + self.arg_v + self.V_v\n",
    "    \n",
    "    def EltMult(self):\n",
    "        return np.multiply(self.head_v, np.multiply(self.arg_v, self.V_v))\n",
    "\n",
    "    def VHn(self, relation):\n",
    "        if relation == 'O':\n",
    "            return np.dot(self.head_v, self.VO_m)\n",
    "        else:\n",
    "            return np.dot(self.head_v, self.VS_m)\n",
    "    \n",
    "    def VArg(self, relation):\n",
    "        if relation == 'O':\n",
    "            return np.dot(self.arg_v, self.VS_m)\n",
    "        else:\n",
    "            return np.dot(self.arg_v, self.VO_m)\n",
    "    \n",
    "    def PLF(self, relation):\n",
    "        return np.add(self.VArg(relation), self.VHn(relation))\n",
    "    \n",
    "    def iPLF(self):\n",
    "        return(np.add(self.VArg(self.inverse_relation), self.VHn(self.inverse_relation)))         \n",
    "        "
   ]
  },
  {
   "cell_type": "code",
   "execution_count": 7,
   "metadata": {},
   "outputs": [],
   "source": [
    "methods_S = ['PLF', 'VHn', 'VArg', 'iPLF', 'iVHn', 'iVArg'] #methods with their result in the S space\n",
    "methods_N = ['Addition', 'Elementwise product', 'Head vector', 'Arg vector', 'Verb vector'] #methods with the results in the N space\n",
    "methods = methods_N + methods_S\n",
    "\n",
    "#calculate composed representations for all sentences and methods\n",
    "\n",
    "terms = items.keys()\n",
    "\n",
    "results = dict()\n",
    "\n",
    "for term in terms:\n",
    "    sents = items[term]\n",
    "    for sent in sents:\n",
    "        composer = PhraseComposer(sent)\n",
    "        if composer.valid:\n",
    "            sentresults = dict()\n",
    "            for method in methods:\n",
    "                property_v = composer.Compose(method)\n",
    "                sentresults[method] = property_v\n",
    "\n",
    "            sentresults['target'] = r[sent.termN]\n",
    "            results[sent] = sentresults\n",
    "            \n",
    "#remove terms with only one sentence\n",
    "for term in terms:\n",
    "    termcount = len([sent for sent in results if sent.termN == term])\n",
    "    if termcount == 1:\n",
    "        results = {sent : results[sent] for sent in results if sent.termN != term}"
   ]
  },
  {
   "cell_type": "markdown",
   "metadata": {},
   "source": [
    "## Check some sizes\n",
    "\n",
    "More of a technicality. \n",
    "\n",
    "Checking the number of trained verbs (bottom) is a bit cumbersome, because subject and object transformations are trained separately, and were only included if they had enough data. So some verbs have a subject but no object representation, or vice versa."
   ]
  },
  {
   "cell_type": "code",
   "execution_count": 8,
   "metadata": {},
   "outputs": [
    {
     "name": "stdout",
     "output_type": "stream",
     "text": [
      "Number of terms in corpus: 111\n",
      "Total number of relative clauses: 411\n",
      "Relative clauses discarded: 28\n",
      "Relative clauses included in results: 383\n",
      "Average number of clauses per term: 3.45\n",
      "Number of verbs: 122\n"
     ]
    }
   ],
   "source": [
    "print('Number of terms in corpus:', len(items))\n",
    "\n",
    "total_clauses = sum(len(items[term]) for term in items)\n",
    "print('Total number of relative clauses:', total_clauses)\n",
    "\n",
    "print('Relative clauses discarded:', total_clauses - len(results))\n",
    "\n",
    "print('Relative clauses included in results:', len(results))\n",
    "\n",
    "print('Average number of clauses per term:', round(len(results) / len(items), 2))\n",
    "\n",
    "roles_for_verb = lambda key : set(verb[-1] for verb in verbmatrices if verb[:-2] == key[:-2])\n",
    "verbs = {verbkey[:-2] : roles_for_verb(verbkey) for verbkey in verbmatrices}\n",
    "print('Number of verbs:', len([verb for verb in verbs if len(verbs[verb]) == 2]))"
   ]
  },
  {
   "cell_type": "markdown",
   "metadata": {},
   "source": [
    "## Evaluate methods by ranking sentences based on term similarity"
   ]
  },
  {
   "cell_type": "code",
   "execution_count": 9,
   "metadata": {},
   "outputs": [],
   "source": [
    "#similarity functions\n",
    "\n",
    "def cosine(v1, v2):\n",
    "    product = np.dot(v1, v2)\n",
    "    norm = np.linalg.norm(v1) * np.linalg.norm(v2)\n",
    "    return product / norm\n",
    "\n",
    "def correlation(v1, v2):\n",
    "    return stats.pearsonr(v1, v2)"
   ]
  },
  {
   "cell_type": "code",
   "execution_count": 10,
   "metadata": {},
   "outputs": [],
   "source": [
    "#rank sentences based on similarity\n",
    "\n",
    "def rankSentences (target_v, results_dict, method, sim_function, target_sent):\n",
    "    \"\"\"Returns a list of the results in the results dictionary, ranked by their similarity \n",
    "    with the target vector. Method and similarity function are parameters.\"\"\"\n",
    "\n",
    "    allsents = list(results_dict.keys())\n",
    "    allsents.remove(target_sent)\n",
    "    similarity = lambda sent: sim_function(target_v, results_dict[sent][method])\n",
    "    return(sorted(allsents, key=similarity, reverse=True))\n",
    "\n",
    "def evaluate_ranking(target_term, sorted_list):\n",
    "    \"\"\"Rate the ranking (output of rankSentences) for a sorted list using MAP. \n",
    "    The ideal ranking puts all sentences with the target term on the top. \n",
    "    Returns 1 for perfect sorting, 0 for worst sorting.\"\"\"\n",
    "    \n",
    "    #count how many sentences in the list use the target term\n",
    "    target_sents = list(filter(lambda sent: sent.termN == target_term, sorted_list))\n",
    "    count = len(target_sents)\n",
    "    \n",
    "    errors = []\n",
    "    \n",
    "    for i, sent in enumerate(sorted_list):\n",
    "        term = sent.termN\n",
    "        if i < count:\n",
    "            correct = term == target_term\n",
    "            error = int(not correct) * (count - i) / count\n",
    "        else:\n",
    "            correct = term != target_term\n",
    "            error = int(not correct) * (i + 1 - count) / (count)\n",
    "        errors.append(error)\n",
    "    \n",
    "    return 1 - (sum(errors) / len(sorted_list))\n",
    "   "
   ]
  },
  {
   "cell_type": "markdown",
   "metadata": {},
   "source": [
    "Now we can apply the rankings to evaluate composition methods. If we evaluate a representation of a sentence, we rank all sentences in the corpus based on their similarity to the sentence vector. Ideally, all items with the same term are ranked on top.\n",
    "\n",
    "To make things a bit more spicy, some the functions below allow you to pass both a base method and a \"corpus method\". The *base method* is used to represent the sentence, while the *corpus method* is used to represent the rest of the corpus. This way we can ask all of the following questions:\n",
    "* Does PLF represent similar relative clauses close to each other?\n",
    "* Does inverted PLF still represent similar clauses close to each other?\n",
    "* If you invert the argument structure of a single sentence, does it still rank similarly to other, non-inverted sentences describing the same term?\n",
    "Note that cross-comparing methods like this is only possible if they represent clauses in the same vector space. All methods represent clauses in the S space except for addition and elementwise multiplication, which represent it in the N space."
   ]
  },
  {
   "cell_type": "code",
   "execution_count": 12,
   "metadata": {},
   "outputs": [],
   "source": [
    "def evaluate_sent(sent, method, corpus_method, sim_function=cosine):\n",
    "    \"\"\"Evaluate the ranking based on the representation of a given sentence. It should rank sentence with \n",
    "    the same term on top.\"\"\"\n",
    "    term = sent.termN\n",
    "    target_v = results[sent][method]\n",
    "    ranking =  rankSentences(target_v, results, corpus_method, sim_function, sent)\n",
    "    evaluation = evaluate_ranking(term, ranking)\n",
    "    return evaluation\n",
    "\n",
    "def evaluate_method(sentences, method, corpus_method = None, sim_function=cosine):\n",
    "    \"\"\"Evaluate a method by looping through all sentences.\"\"\"\n",
    "    if not corpus_method:\n",
    "        corpus_method = method\n",
    "        \n",
    "    evaluations = [evaluate_sent(sent, method, corpus_method, sim_function) for sent in sentences]\n",
    "    return np.array(evaluations)"
   ]
  },
  {
   "cell_type": "markdown",
   "metadata": {},
   "source": [
    "So how do the methods compare?"
   ]
  },
  {
   "cell_type": "code",
   "execution_count": 13,
   "metadata": {},
   "outputs": [],
   "source": [
    "#calculate evaluations\n",
    "\n",
    "method_results = { method : np.array(evaluate_method(results.keys(), method)) for method in methods }"
   ]
  },
  {
   "cell_type": "code",
   "execution_count": 14,
   "metadata": {},
   "outputs": [
    {
     "name": "stdout",
     "output_type": "stream",
     "text": [
      "               Addition 0.9649274547214481\n",
      "    Elementwise product 0.7800890892083325\n",
      "            Head vector 0.964738516078174\n",
      "             Arg vector 0.759930751790279\n",
      "            Verb vector 0.583515876379122\n",
      "                    PLF 0.7253815226143772\n",
      "                    VHn 0.7499189240033771\n",
      "                   VArg 0.6928904552949363\n",
      "                   iPLF 0.721694127051392\n",
      "                   iVHn 0.7558786444327706\n",
      "                  iVArg 0.660145647120549\n",
      "\n",
      "Ranking accuracy for each method\n"
     ]
    },
    {
     "data": {
      "image/png": "[encoded data removed]",
      "text/plain": [
       "<Figure size 432x288 with 1 Axes>"
      ]
     },
     "metadata": {
      "needs_background": "light"
     },
     "output_type": "display_data"
    }
   ],
   "source": [
    "#descriptives\n",
    "mean_acc =  [ np.mean(method_results[method]) for method in method_results ]\n",
    "sd_acc = [ np.std(method_results[method]) for method in method_results ]\n",
    "\n",
    "ticks = np.linspace(0,len(methods),num=len(methods))\n",
    "\n",
    "#plot\n",
    "plt.bar(ticks, mean_acc, yerr = sd_acc, capsize = 5, color = '#C00A35')\n",
    "plt.ylim((0,1))\n",
    "plt.xticks(ticks, methods, rotation=-30)\n",
    "\n",
    "#print descriptives\n",
    "for i, method in enumerate(methods):\n",
    "    print(' ' * (20 - len(method)), ' ', method, mean_acc[i])\n",
    "    \n",
    "      \n",
    "print()\n",
    "print('Ranking accuracy for each method')"
   ]
  },
  {
   "cell_type": "code",
   "execution_count": 15,
   "metadata": {},
   "outputs": [],
   "source": [
    "#old code:\n",
    "#evaluate based on similarity between property vectors and term vectors \n",
    "#(only useful for addition and elementwise product)\n",
    "\n",
    "terms = {sent.termN : results[sent]['target'] for sent in results.keys()}\n",
    "\n",
    "def evaluate_term(term, target_v, method='Addition', sim_function=cosine):\n",
    "    ranking = rankSentences(target_v, results, method, sim_function, None)\n",
    "    evaluation = evaluate_ranking(term, ranking)\n",
    "    return evaluation\n",
    "\n",
    "def evaluate_method_by_term(method='Addition', sim_function=cosine):\n",
    "    evaluations = [evaluate_term(term, terms[term], method, sim_function) for term in terms]\n",
    "    return round(sum(evaluations) / len(terms), 3)\n",
    "\n",
    "#print(evaluate_method_by_term('Addition'))\n",
    "#print(evaluate_method_by_term('Elementwise product'))"
   ]
  },
  {
   "cell_type": "markdown",
   "metadata": {},
   "source": [
    "## Similarity to PLF\n",
    "\n",
    "In the last section, we looked at composition methods in isolation. We notice that most of them represent semantic distance pretty well! But does that mean that their results are similar to the PLF results? Or are they preserving distance in their own space?\n",
    "\n",
    "One way to see this: how do they rank PLF results? PLF will give the same results as above (or something is wrong). The other methods essentially represent some loss of information: we only consider the head noun, we only consider the argument, or we mess up the argument structure."
   ]
  },
  {
   "cell_type": "code",
   "execution_count": 16,
   "metadata": {},
   "outputs": [
    {
     "name": "stdout",
     "output_type": "stream",
     "text": [
      "\t\t\tranking\n",
      "             PLF\t0.725\n",
      "             VHn\t0.723\n",
      "            VArg\t0.7\n",
      "            iPLF\t0.719\n",
      "            iVHn\t0.723\n",
      "           iVArg\t0.674\n"
     ]
    }
   ],
   "source": [
    "print('\\t\\t\\tranking')\n",
    "\n",
    "for method in methods_S:\n",
    "    print(' ' * (16 - len(method)) + method, \n",
    "          round(np.mean(evaluate_method(results.keys(), method = method, corpus_method = 'PLF')), 3),\n",
    "          sep='\\t')"
   ]
  },
  {
   "cell_type": "markdown",
   "metadata": {},
   "source": [
    "These numbers are still really high! Let's look at the direct similarity with the PLF results."
   ]
  },
  {
   "cell_type": "code",
   "execution_count": 17,
   "metadata": {},
   "outputs": [],
   "source": [
    "def compare_methods(method_1, method_2, sim_function = cosine):\n",
    "    similarities = [sim_function(results[sent][method_1], results[sent][method_2]) for sent in results]\n",
    "    return similarities\n",
    "\n",
    "methods_compared_to_PLF = {method : compare_methods(method, 'PLF') for method in methods_S}"
   ]
  },
  {
   "cell_type": "code",
   "execution_count": 20,
   "metadata": {},
   "outputs": [
    {
     "name": "stdout",
     "output_type": "stream",
     "text": [
      "                    PLF 1.0\n",
      "                    VHn 0.9579806160035399\n",
      "                   VArg 0.9493473555771804\n",
      "                   iPLF 0.9680602480318826\n",
      "                   iVHn 0.924871145461425\n",
      "                  iVArg 0.9134799631932279\n",
      "\n",
      "Ranking accuracy for each method\n"
     ]
    },
    {
     "data": {
      "image/png": "[encoded data removed]",
      "text/plain": [
       "<Figure size 432x288 with 1 Axes>"
      ]
     },
     "metadata": {
      "needs_background": "light"
     },
     "output_type": "display_data"
    }
   ],
   "source": [
    "#descriptives\n",
    "mean_corr =  [ np.mean(methods_compared_to_PLF[method]) for method in methods_S ]\n",
    "sd_corr = [ np.std(methods_compared_to_PLF[method]) for method in methods_S ]\n",
    "\n",
    "ticks = np.linspace(0,len(methods_S),num=len(methods_S))\n",
    "\n",
    "#plot\n",
    "plt.bar(ticks, mean_corr, yerr = sd_corr, capsize = 5, color = '#C00A35')\n",
    "plt.ylim((0,1))\n",
    "plt.xticks(ticks, methods_S, rotation=-30)\n",
    "\n",
    "#print descriptives\n",
    "for i, method in enumerate(methods_S):\n",
    "    print(' ' * (20 - len(method)), ' ', method, mean_corr[i])\n",
    "    \n",
    "    \n",
    "print()\n",
    "print('Ranking accuracy for each method')"
   ]
  },
  {
   "cell_type": "code",
   "execution_count": 41,
   "metadata": {},
   "outputs": [
    {
     "data": {
      "text/plain": [
       "['STIXSizeOneSym',\n",
       " 'STIXSizeTwoSym',\n",
       " 'DejaVu Sans Mono',\n",
       " 'cmex10',\n",
       " 'STIXSizeOneSym',\n",
       " 'STIXGeneral',\n",
       " 'DejaVu Sans',\n",
       " 'STIXSizeFourSym',\n",
       " 'DejaVu Serif',\n",
       " 'cmr10',\n",
       " 'STIXSizeThreeSym',\n",
       " 'DejaVu Sans',\n",
       " 'STIXSizeTwoSym',\n",
       " 'cmsy10',\n",
       " 'STIXSizeFourSym',\n",
       " 'STIXSizeThreeSym',\n",
       " 'STIXNonUnicode',\n",
       " 'cmss10',\n",
       " 'STIXGeneral',\n",
       " 'DejaVu Sans Mono',\n",
       " 'STIXGeneral',\n",
       " 'STIXNonUnicode',\n",
       " 'DejaVu Serif',\n",
       " 'DejaVu Sans Display',\n",
       " 'DejaVu Serif',\n",
       " 'cmtt10',\n",
       " 'DejaVu Sans',\n",
       " 'DejaVu Serif Display',\n",
       " 'DejaVu Sans Mono',\n",
       " 'cmb10',\n",
       " 'cmmi10',\n",
       " 'STIXGeneral',\n",
       " 'STIXNonUnicode',\n",
       " 'STIXNonUnicode',\n",
       " 'STIXSizeFiveSym',\n",
       " 'DejaVu Sans Mono',\n",
       " 'DejaVu Serif',\n",
       " 'DejaVu Sans']"
      ]
     },
     "execution_count": 41,
     "metadata": {},
     "output_type": "execute_result"
    }
   ],
   "source": [
    "import matplotlib.font_manager\n",
    "\n",
    "[font.name for font in matplotlib.font_manager.fontManager.ttflist]"
   ]
  },
  {
   "cell_type": "code",
   "execution_count": 33,
   "metadata": {},
   "outputs": [
    {
     "name": "stdout",
     "output_type": "stream",
     "text": [
      "Comparison between baseline and PLF\n"
     ]
    },
    {
     "data": {
      "image/png": "[encoded data removed]",
      "text/plain": [
       "<Figure size 720x360 with 1 Axes>"
      ]
     },
     "metadata": {
      "needs_background": "light"
     },
     "output_type": "display_data"
    }
   ],
   "source": [
    "#make a nice graph of non-inverted data\n",
    "\n",
    "#declare colours\n",
    "\n",
    "c1 = '#C00A35'\n",
    "c2 = '#FFCD00'\n",
    "c3 = '#24A793'\n",
    "\n",
    "#get data\n",
    "\n",
    "#baseline methods\n",
    "baseline_methods = methods_N\n",
    "baseline_mean_acc = mean_acc[:len(baseline_methods)]\n",
    "baseline_sd_acc = sd_acc[:len(baseline_methods)]\n",
    "baseline_ticks = np.array(range(len(baseline_methods)))\n",
    "\n",
    "#PLF\n",
    "plf_mean_acc = mean_acc[len(baseline_methods)]\n",
    "plf_sd_acc = sd_acc[len(baseline_methods)]\n",
    "plf_ticks = np.array([len(baseline_methods)])\n",
    "\n",
    "#methods VHn and VArg, which match the colour of PLF but include the correlation with PLF\n",
    "rest_methods = methods[6:8]\n",
    "rest_start = len(baseline_methods) + 1\n",
    "rest_end = rest_start + len(rest_methods)\n",
    "rest_mean_acc = mean_acc[rest_start: rest_end]\n",
    "rest_sd_acc = sd_acc[rest_start: rest_end]\n",
    "rest_mean_corr = mean_corr[1 : len(rest_methods) + 1]\n",
    "rest_sd_corr = sd_corr[1 : len(rest_methods) + 1]\n",
    "rest_ticks = np.array(range(rest_start, rest_end))\n",
    "\n",
    "#set bar width\n",
    "bar_width = 0.4\n",
    "bar_spacing = 0.02\n",
    "\n",
    "#rescale rest_ticks\n",
    "rest_ticks_shift = np.array(range(len(rest_ticks))) * (bar_width + bar_spacing)\n",
    "rest_ticks_shift = rest_ticks_shift + bar_width / 2 + bar_spacing / 2\n",
    "rest_ticks = rest_ticks + rest_ticks_shift\n",
    "\n",
    "#make bars\n",
    "\n",
    "plt.figure(figsize = (10,5))\n",
    "\n",
    "plt.bar(baseline_ticks, baseline_mean_acc,  yerr = baseline_sd_acc, capsize = 5, \n",
    "        width = bar_width, color = c1)\n",
    "plt.bar(plf_ticks, plf_mean_acc,  yerr = plf_sd_acc, capsize = 5, \n",
    "        width = bar_width, color = c2)\n",
    "plt.bar(rest_ticks - 0.22, rest_mean_acc,  yerr = rest_sd_acc, capsize = 5, \n",
    "        width = bar_width, color = c2)\n",
    "plt.bar(rest_ticks + 0.22, rest_mean_corr, yerr = rest_sd_corr, capsize = 5, \n",
    "        width = bar_width, fill = False, hatch = '//', edgecolor = c2)\n",
    "\n",
    "#add tick labels \n",
    "\n",
    "tick_labels = baseline_methods + ['PLF'] + rest_methods\n",
    "tick_labels[1] = 'Elt. product'\n",
    "all_ticks = np.hstack((baseline_ticks, plf_ticks, rest_ticks))\n",
    "plt.xticks(all_ticks, tick_labels)\n",
    "\n",
    "#additional stuff\n",
    "\n",
    "plt.ylim(0,1)\n",
    "\n",
    "print('Comparison between baseline and PLF')"
   ]
  },
  {
   "cell_type": "code",
   "execution_count": 35,
   "metadata": {},
   "outputs": [
    {
     "name": "stdout",
     "output_type": "stream",
     "text": [
      "Effect of inverting argument structure\n"
     ]
    },
    {
     "data": {
      "image/png": "[encoded data removed]",
      "text/plain": [
       "<Figure size 720x360 with 1 Axes>"
      ]
     },
     "metadata": {
      "needs_background": "light"
     },
     "output_type": "display_data"
    }
   ],
   "source": [
    "#similar to above, but we leave out the lexical baselines and include the inverted data\n",
    "\n",
    "#get data. much of this does not need to be repeated\n",
    "\n",
    "plf_ticks = np.array([0])\n",
    "\n",
    "rest_ticks = np.array(range(1, 1 + len(rest_methods)))\n",
    "\n",
    "#inverted data\n",
    "inv_methods = methods[rest_end:]\n",
    "inv_mean_acc = mean_acc[rest_end:]\n",
    "inv_sd_acc = sd_acc[rest_end:]\n",
    "inv_mean_corr = mean_corr[len(rest_methods) + 1 :]\n",
    "inv_sd_corr = sd_corr[len(rest_methods) + 1 :]\n",
    "inv_ticks = range(1 + len(rest_methods), 1 + len(rest_methods) + len(inv_methods))\n",
    "\n",
    "bar_width = 0.4\n",
    "bar_spacing = 0.02\n",
    "\n",
    "#rescale rest and inverted ticks\n",
    "rest_ticks_shift = np.array(range(len(rest_ticks))) * (bar_width + bar_spacing)\n",
    "rest_ticks_shift = rest_ticks_shift + bar_width / 2 + bar_spacing / 2\n",
    "rest_ticks = rest_ticks + rest_ticks_shift\n",
    "\n",
    "inv_ticks_shift = np.array(range(1, len(inv_ticks) + 1)) * (bar_width + bar_spacing)\n",
    "inv_ticks_shift = inv_ticks_shift + rest_ticks_shift[-1]  \n",
    "inv_ticks = inv_ticks + inv_ticks_shift\n",
    "\n",
    "#make bars\n",
    "\n",
    "plt.figure(figsize = (10,5))\n",
    "\n",
    "plt.bar(plf_ticks, plf_mean_acc,  yerr = plf_sd_acc, \n",
    "        capsize = 5, width = bar_width, color = c2)\n",
    "plt.bar(rest_ticks - 0.22, rest_mean_acc,  yerr = rest_sd_acc, \n",
    "        capsize = 5, width = bar_width, color = c2)\n",
    "plt.bar(rest_ticks + 0.22, rest_mean_corr, yerr = rest_sd_corr, \n",
    "        capsize = 5, width = bar_width, fill = False, hatch = '//', edgecolor = c2)\n",
    "plt.bar(inv_ticks - 0.22, inv_mean_acc, yerr = inv_sd_acc, \n",
    "        capsize = 5, width = bar_width, color = c3)\n",
    "plt.bar(inv_ticks + 0.22, inv_mean_corr, yerr = inv_sd_corr, \n",
    "        capsize = 5, width = bar_width, fill = False, hatch = '//', edgecolor = c3)\n",
    "\n",
    "#add tick labels \n",
    "\n",
    "#tick_labels = ['PLF'] + rest_methods + inv_methods\n",
    "tick_labels = ['PLF', 'V * head', 'V * arg'] * 2\n",
    "all_ticks = np.hstack((plf_ticks, rest_ticks, inv_ticks))\n",
    "plt.xticks(all_ticks, tick_labels)\n",
    "\n",
    "#additional stuff\n",
    "\n",
    "plt.ylim(0,1)\n",
    "\n",
    "print('Effect of inverting argument structure')"
   ]
  }
 ],
 "metadata": {
  "kernelspec": {
   "display_name": "Python 3",
   "language": "python",
   "name": "python3"
  },
  "language_info": {
   "codemirror_mode": {
    "name": "ipython",
    "version": 3
   },
   "file_extension": ".py",
   "mimetype": "text/x-python",
   "name": "python",
   "nbconvert_exporter": "python",
   "pygments_lexer": "ipython3",
   "version": "3.6.9"
  }
 },
 "nbformat": 4,
 "nbformat_minor": 2
}
